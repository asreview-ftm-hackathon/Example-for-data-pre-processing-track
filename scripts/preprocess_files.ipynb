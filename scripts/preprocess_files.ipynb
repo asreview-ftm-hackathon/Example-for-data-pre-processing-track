{
    "cells": [
        {
            "cell_type": "markdown",
            "metadata": {},
            "source": [
                "# Imports"
            ]
        },
        {
            "cell_type": "code",
            "execution_count": 1,
            "metadata": {},
            "outputs": [],
            "source": [
                "import pandas as pd\n",
                "from bs4 import BeautifulSoup\n",
                "import string\n",
                "import re\n",
                "from datetime import datetime"
            ]
        },
        {
            "cell_type": "markdown",
            "metadata": {},
            "source": [
                "# Import Data"
            ]
        },
        {
            "cell_type": "code",
            "execution_count": 2,
            "metadata": {},
            "outputs": [],
            "source": [
                "process = pd.read_csv('https://github.com/ftmnl/asr/raw/main/data/allExport.csv', sep='|')"
            ]
        },
        {
            "cell_type": "code",
            "execution_count": 3,
            "metadata": {},
            "outputs": [
                {
                    "data": {
                        "text/html": [
                            "<div>\n",
                            "<style scoped>\n",
                            "    .dataframe tbody tr th:only-of-type {\n",
                            "        vertical-align: middle;\n",
                            "    }\n",
                            "\n",
                            "    .dataframe tbody tr th {\n",
                            "        vertical-align: top;\n",
                            "    }\n",
                            "\n",
                            "    .dataframe thead th {\n",
                            "        text-align: right;\n",
                            "    }\n",
                            "</style>\n",
                            "<table border=\"1\" class=\"dataframe\">\n",
                            "  <thead>\n",
                            "    <tr style=\"text-align: right;\">\n",
                            "      <th></th>\n",
                            "      <th>file_name_sort</th>\n",
                            "      <th>content</th>\n",
                            "    </tr>\n",
                            "  </thead>\n",
                            "  <tbody>\n",
                            "    <tr>\n",
                            "      <th>0</th>\n",
                            "      <td>.DS_Store</td>\n",
                            "      <td>\\nSize:6148\\nDate:2021-04-21\\nTime:09:29:32.96...</td>\n",
                            "    </tr>\n",
                            "    <tr>\n",
                            "      <th>1</th>\n",
                            "      <td>.DS_Store</td>\n",
                            "      <td>\\nSize:6148\\nDate:2021-04-21\\nTime:09:41:28.04...</td>\n",
                            "    </tr>\n",
                            "    <tr>\n",
                            "      <th>2</th>\n",
                            "      <td>.DS_Store</td>\n",
                            "      <td>\\nSize:6148\\nDate:2021-04-21\\nTime:09:43:31.22...</td>\n",
                            "    </tr>\n",
                            "    <tr>\n",
                            "      <th>3</th>\n",
                            "      <td>.DS_Store</td>\n",
                            "      <td>\\nSize:6148\\nDate:2021-04-21\\nTime:09:45:45.48...</td>\n",
                            "    </tr>\n",
                            "    <tr>\n",
                            "      <th>4</th>\n",
                            "      <td>.DS_Store</td>\n",
                            "      <td>\\nSize:6148\\nDate:2021-04-21\\nTime:09:52:47.55...</td>\n",
                            "    </tr>\n",
                            "    <tr>\n",
                            "      <th>...</th>\n",
                            "      <td>...</td>\n",
                            "      <td>...</td>\n",
                            "    </tr>\n",
                            "    <tr>\n",
                            "      <th>2543</th>\n",
                            "      <td>NaN</td>\n",
                            "      <td>NaN</td>\n",
                            "    </tr>\n",
                            "    <tr>\n",
                            "      <th>2544</th>\n",
                            "      <td>NaN</td>\n",
                            "      <td>NaN</td>\n",
                            "    </tr>\n",
                            "    <tr>\n",
                            "      <th>2545</th>\n",
                            "      <td>NaN</td>\n",
                            "      <td>NaN</td>\n",
                            "    </tr>\n",
                            "    <tr>\n",
                            "      <th>2546</th>\n",
                            "      <td>NaN</td>\n",
                            "      <td>NaN</td>\n",
                            "    </tr>\n",
                            "    <tr>\n",
                            "      <th>2547</th>\n",
                            "      <td>NaN</td>\n",
                            "      <td>NaN</td>\n",
                            "    </tr>\n",
                            "  </tbody>\n",
                            "</table>\n",
                            "<p>2548 rows × 2 columns</p>\n",
                            "</div>"
                        ],
                        "text/plain": [
                            "     file_name_sort                                            content\n",
                            "0         .DS_Store  \\nSize:6148\\nDate:2021-04-21\\nTime:09:29:32.96...\n",
                            "1         .DS_Store  \\nSize:6148\\nDate:2021-04-21\\nTime:09:41:28.04...\n",
                            "2         .DS_Store  \\nSize:6148\\nDate:2021-04-21\\nTime:09:43:31.22...\n",
                            "3         .DS_Store  \\nSize:6148\\nDate:2021-04-21\\nTime:09:45:45.48...\n",
                            "4         .DS_Store  \\nSize:6148\\nDate:2021-04-21\\nTime:09:52:47.55...\n",
                            "...             ...                                                ...\n",
                            "2543            NaN                                                NaN\n",
                            "2544            NaN                                                NaN\n",
                            "2545            NaN                                                NaN\n",
                            "2546            NaN                                                NaN\n",
                            "2547            NaN                                                NaN\n",
                            "\n",
                            "[2548 rows x 2 columns]"
                        ]
                    },
                    "execution_count": 3,
                    "metadata": {},
                    "output_type": "execute_result"
                }
            ],
            "source": [
                "process"
            ]
        },
        {
            "cell_type": "code",
            "execution_count": 8,
            "metadata": {},
            "outputs": [],
            "source": [
                "#remove noise\n",
                "process = process.dropna()\n",
                "\n",
                "process = process.rename(columns = {\"file_name_sort\": \"title\", \"content\": \"abstract\"})\n",
                "\n",
                "remove = ['.DS_Store', 'NaN', 'Readme.md']\n",
                "process = process[~process.title.isin(remove)]"
            ]
        },
        {
            "cell_type": "markdown",
            "metadata": {},
            "source": [
                "# Transform Content"
            ]
        },
        {
            "cell_type": "code",
            "execution_count": 9,
            "metadata": {},
            "outputs": [],
            "source": [
                "#abstract html to string\n",
                "\n",
                "translate_table = dict((ord(char), None) for char in string.punctuation)\n",
                "\n",
                "def prettify(text):\n",
                "    text = BeautifulSoup(text, 'html.parser').get_text()\n",
                "    text = text.replace(\"\\r\", \"\")\n",
                "    #text = text.replace('\\n', '')\n",
                "    #text = text.translate(translate_table)\n",
                "    return str(text)\n",
                "\n",
                "process.abstract = process.abstract.apply(prettify)"
            ]
        },
        {
            "cell_type": "markdown",
            "metadata": {},
            "source": [
                "# Search formats"
            ]
        },
        {
            "cell_type": "code",
            "execution_count": 10,
            "metadata": {},
            "outputs": [],
            "source": [
                "#extract id, type and date from title\n",
                "\n",
                "import re\n",
                "\n",
                "numberlist = []\n",
                "typelist = []\n",
                "datelist = []\n",
                "\n",
                "for title in process.title:\n",
                "    id = re.search('^[0-9\\.]+', title)\n",
                "    if id == None:\n",
                "        numberlist.append(None)\n",
                "    else: \n",
                "        numberlist.append(id.group(0))\n",
                "\n",
                "    type = re.search('(?<=[0-9\\_]\\_)[a-z A-Z]+(?=\\_)', title)\n",
                "    if type != None:\n",
                "        typelist.append(type.group(0))\n",
                "    else:\n",
                "        typelist.append(\"Onbekend\")\n",
                "        \n",
                "    date = re.search(\"[0-9-?]+(?=.pdf$)\", title)\n",
                "    if date == None:\n",
                "        datelist.append(None)\n",
                "    else: \n",
                "        try: datelist.append(datetime.strptime(date.group(0), '%d-%m-%Y'))\n",
                "        except: \n",
                "            try: datelist.append(datetime.strptime(date.group(0), '%-d-%-m-%Y'))\n",
                "            except: datelist.append(date.group(0))\n",
                "\n",
                "process[\"id\"] = numberlist\n",
                "process[\"type\"] = typelist\n",
                "process[\"date\"] = datelist\n"
            ]
        },
        {
            "cell_type": "code",
            "execution_count": 11,
            "metadata": {},
            "outputs": [],
            "source": [
                "#Improve some Dating\n",
                "\n",
                "betterDate = []\n",
                "\n",
                "for index, row in process.iterrows():\n",
                "    regexDate = re.search(\"(?<=Date : )[0-9-]{3,5}-20[0-9]{2} [0-9:]{8}\", row.abstract)\n",
                "    if regexDate != None:\n",
                "        date = datetime.strptime(regexDate.group(0), '%d-%m-%Y %H:%M:%S')\n",
                "        betterDate.append(date)\n",
                "    else: \n",
                "        betterDate.append(None)\n",
                "\n",
                "process[\"betterDate\"] = betterDate"
            ]
        },
        {
            "cell_type": "markdown",
            "metadata": {},
            "source": [
                "# Clean Data"
            ]
        },
        {
            "cell_type": "code",
            "execution_count": 12,
            "metadata": {},
            "outputs": [],
            "source": [
                "def cleanTitle(title):\n",
                "    title = re.sub('^[0-9\\.]+_+[a-z A-Z]+_', '', title)\n",
                "    title = re.sub('[0-9\\-]+.pdf$', '', title)\n",
                "    title = re.sub('.msg_', ' ', title)\n",
                "    return title\n",
                "\n",
                "process.title = process.title.apply(cleanTitle)"
            ]
        },
        {
            "cell_type": "markdown",
            "metadata": {},
            "source": [
                "# Export processing"
            ]
        },
        {
            "cell_type": "code",
            "execution_count": 13,
            "metadata": {},
            "outputs": [],
            "source": [
                "process[['id','type','date','betterDate','title','abstract']].to_excel('../pre-processing/preprocessed.xlsx')"
            ]
        }
    ],
    "metadata": {
        "interpreter": {
            "hash": "ac59ebe37160ed0dfa835113d9b8498d9f09ceb179beaac4002f036b9467c963"
        },
        "kernelspec": {
            "display_name": "Python 3.9.6 64-bit",
            "name": "python3"
        },
        "language_info": {
            "codemirror_mode": {
                "name": "ipython",
                "version": 3
            },
            "file_extension": ".py",
            "mimetype": "text/x-python",
            "name": "python",
            "nbconvert_exporter": "python",
            "pygments_lexer": "ipython3",
            "version": "3.9.8"
        },
        "orig_nbformat": 4
    },
    "nbformat": 4,
    "nbformat_minor": 2
}
